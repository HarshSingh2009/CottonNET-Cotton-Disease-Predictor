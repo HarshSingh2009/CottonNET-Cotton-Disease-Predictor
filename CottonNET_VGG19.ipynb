{
  "nbformat": 4,
  "nbformat_minor": 0,
  "metadata": {
    "colab": {
      "provenance": [],
      "gpuType": "T4"
    },
    "kernelspec": {
      "name": "python3",
      "display_name": "Python 3"
    },
    "language_info": {
      "name": "python"
    },
    "accelerator": "GPU"
  },
  "cells": [
    {
      "cell_type": "markdown",
      "source": [
        "#  CottonNet: Cotton Disease Prediction using VGG19\n",
        "### Using Advanced techniques like :\n",
        "* Transfer Learning\n",
        "* Data Augmentation"
      ],
      "metadata": {
        "id": "4RtTjAU0XfbV"
      }
    },
    {
      "cell_type": "code",
      "source": [
        "import numpy as np\n",
        "import matplotlib.pyplot as plt\n",
        "\n",
        "import tensorflow as tf\n",
        "from tensorflow import keras\n",
        "from keras.models import Model\n",
        "from keras import Sequential\n",
        "from keras.preprocessing.image import ImageDataGenerator\n",
        "from keras.applications.vgg19 import VGG19\n",
        "from keras.layers import Dense, Flatten, Conv2D, MaxPooling2D, BatchNormalization, Dropout"
      ],
      "metadata": {
        "id": "BuZy92OOgPCj"
      },
      "execution_count": 1,
      "outputs": []
    },
    {
      "cell_type": "markdown",
      "source": [
        "## Fetch / Load the Data"
      ],
      "metadata": {
        "id": "5oO83Lp9XgE1"
      }
    },
    {
      "cell_type": "code",
      "source": [
        "!mkdir -p ~/.kaggle\n",
        "!cp kaggle.json ~/.kaggle/"
      ],
      "metadata": {
        "id": "PuTnl6yWe7By"
      },
      "execution_count": 2,
      "outputs": []
    },
    {
      "cell_type": "code",
      "source": [
        "!kaggle datasets download -d janmejaybhoi/cotton-disease-dataset"
      ],
      "metadata": {
        "colab": {
          "base_uri": "https://localhost:8080/"
        },
        "id": "7MF0RL-ue7D4",
        "outputId": "e9ab2e4d-29e9-4a95-a8bc-473a23e38ac4"
      },
      "execution_count": 3,
      "outputs": [
        {
          "output_type": "stream",
          "name": "stdout",
          "text": [
            "Warning: Your Kaggle API key is readable by other users on this system! To fix this, you can run 'chmod 600 /root/.kaggle/kaggle.json'\n",
            "Downloading cotton-disease-dataset.zip to /content\n",
            " 99% 147M/148M [00:04<00:00, 42.3MB/s]\n",
            "100% 148M/148M [00:04<00:00, 35.8MB/s]\n"
          ]
        }
      ]
    },
    {
      "cell_type": "code",
      "source": [
        "import zipfile\n",
        "zip_ref = zipfile.ZipFile('/content/cotton-disease-dataset.zip', 'r')\n",
        "zip_ref.extractall('/content/')\n",
        "zip_ref.close()"
      ],
      "metadata": {
        "id": "JvSBBm4mfkOL"
      },
      "execution_count": 4,
      "outputs": []
    },
    {
      "cell_type": "markdown",
      "source": [
        "## Data Augmenatation"
      ],
      "metadata": {
        "id": "n9UVghyGXgHf"
      }
    },
    {
      "cell_type": "code",
      "source": [
        "IMAGE_SIZE = (224, 224)"
      ],
      "metadata": {
        "id": "WDICCI3Fk8Bw"
      },
      "execution_count": 5,
      "outputs": []
    },
    {
      "cell_type": "code",
      "source": [
        "BATCH_SIZE = 32\n",
        "\n",
        "train_datagen = ImageDataGenerator(\n",
        "        rotation_range=40,\n",
        "        width_shift_range=0.2,\n",
        "        height_shift_range=0.2,\n",
        "        rescale=1./255,\n",
        "        shear_range=0.2,\n",
        "        zoom_range=0.2,\n",
        "        horizontal_flip=True,\n",
        "        fill_mode='nearest'\n",
        ")\n",
        "\n",
        "test_datagen = ImageDataGenerator(rescale=1./255)"
      ],
      "metadata": {
        "id": "9GEqY5EqgIBB"
      },
      "execution_count": 6,
      "outputs": []
    },
    {
      "cell_type": "code",
      "source": [
        "train_generator = train_datagen.flow_from_directory(\n",
        "    '/content/Cotton Disease/train',\n",
        "    target_size=IMAGE_SIZE,\n",
        "    batch_size=BATCH_SIZE,\n",
        "    class_mode='categorical'\n",
        ")\n",
        "\n",
        "test_generator = test_datagen.flow_from_directory(\n",
        "    '/content/Cotton Disease/test',\n",
        "    target_size=IMAGE_SIZE,\n",
        "    batch_size=BATCH_SIZE,\n",
        "    class_mode='categorical'\n",
        ")\n"
      ],
      "metadata": {
        "colab": {
          "base_uri": "https://localhost:8080/"
        },
        "id": "p5VdihUsiPgB",
        "outputId": "13133097-b8c2-49b9-9834-f67cf41e3481"
      },
      "execution_count": 7,
      "outputs": [
        {
          "output_type": "stream",
          "name": "stdout",
          "text": [
            "Found 1951 images belonging to 4 classes.\n",
            "Found 106 images belonging to 4 classes.\n"
          ]
        }
      ]
    },
    {
      "cell_type": "markdown",
      "source": [
        "## Build the CNN model"
      ],
      "metadata": {
        "id": "zzW5LiqgXgM7"
      }
    },
    {
      "cell_type": "markdown",
      "source": [
        "### Load the VGG19 model and set trainable to false"
      ],
      "metadata": {
        "id": "Hu0QuUf-XgPE"
      }
    },
    {
      "cell_type": "code",
      "source": [
        "conv_base = VGG19(input_shape=(224, 224, 3), weights='imagenet', include_top=False)"
      ],
      "metadata": {
        "id": "redJdVrykmJi",
        "colab": {
          "base_uri": "https://localhost:8080/"
        },
        "outputId": "20339dfb-e64b-4c2d-95b8-a74811a0aa98"
      },
      "execution_count": 8,
      "outputs": [
        {
          "output_type": "stream",
          "name": "stdout",
          "text": [
            "Downloading data from https://storage.googleapis.com/tensorflow/keras-applications/vgg19/vgg19_weights_tf_dim_ordering_tf_kernels_notop.h5\n",
            "80134624/80134624 [==============================] - 3s 0us/step\n"
          ]
        }
      ]
    },
    {
      "cell_type": "code",
      "source": [
        "# Freezing the conv_base (making it non-trainable)\n",
        "for layer in conv_base.layers:\n",
        "  layer.trainable = False"
      ],
      "metadata": {
        "id": "gXQZUD-NYf3X"
      },
      "execution_count": 9,
      "outputs": []
    },
    {
      "cell_type": "code",
      "execution_count": 10,
      "metadata": {
        "id": "27xr80-sXaRI"
      },
      "outputs": [],
      "source": [
        "flatten = Flatten()(conv_base.output)\n",
        "dense1 = Dense(64, activation='relu')(flatten)\n",
        "dense2 = Dense(32, activation='relu')(dense1)\n",
        "prediction = Dense(4, activation='softmax')(dense2)\n",
        "\n",
        "model = Model(inputs=conv_base.input, outputs=prediction)"
      ]
    },
    {
      "cell_type": "code",
      "source": [
        "model.summary()"
      ],
      "metadata": {
        "id": "wj0sT9esnOi5",
        "colab": {
          "base_uri": "https://localhost:8080/"
        },
        "outputId": "73f9158a-649d-4619-d3c4-a1c9b0501c77"
      },
      "execution_count": 11,
      "outputs": [
        {
          "output_type": "stream",
          "name": "stdout",
          "text": [
            "Model: \"model\"\n",
            "_________________________________________________________________\n",
            " Layer (type)                Output Shape              Param #   \n",
            "=================================================================\n",
            " input_1 (InputLayer)        [(None, 224, 224, 3)]     0         \n",
            "                                                                 \n",
            " block1_conv1 (Conv2D)       (None, 224, 224, 64)      1792      \n",
            "                                                                 \n",
            " block1_conv2 (Conv2D)       (None, 224, 224, 64)      36928     \n",
            "                                                                 \n",
            " block1_pool (MaxPooling2D)  (None, 112, 112, 64)      0         \n",
            "                                                                 \n",
            " block2_conv1 (Conv2D)       (None, 112, 112, 128)     73856     \n",
            "                                                                 \n",
            " block2_conv2 (Conv2D)       (None, 112, 112, 128)     147584    \n",
            "                                                                 \n",
            " block2_pool (MaxPooling2D)  (None, 56, 56, 128)       0         \n",
            "                                                                 \n",
            " block3_conv1 (Conv2D)       (None, 56, 56, 256)       295168    \n",
            "                                                                 \n",
            " block3_conv2 (Conv2D)       (None, 56, 56, 256)       590080    \n",
            "                                                                 \n",
            " block3_conv3 (Conv2D)       (None, 56, 56, 256)       590080    \n",
            "                                                                 \n",
            " block3_conv4 (Conv2D)       (None, 56, 56, 256)       590080    \n",
            "                                                                 \n",
            " block3_pool (MaxPooling2D)  (None, 28, 28, 256)       0         \n",
            "                                                                 \n",
            " block4_conv1 (Conv2D)       (None, 28, 28, 512)       1180160   \n",
            "                                                                 \n",
            " block4_conv2 (Conv2D)       (None, 28, 28, 512)       2359808   \n",
            "                                                                 \n",
            " block4_conv3 (Conv2D)       (None, 28, 28, 512)       2359808   \n",
            "                                                                 \n",
            " block4_conv4 (Conv2D)       (None, 28, 28, 512)       2359808   \n",
            "                                                                 \n",
            " block4_pool (MaxPooling2D)  (None, 14, 14, 512)       0         \n",
            "                                                                 \n",
            " block5_conv1 (Conv2D)       (None, 14, 14, 512)       2359808   \n",
            "                                                                 \n",
            " block5_conv2 (Conv2D)       (None, 14, 14, 512)       2359808   \n",
            "                                                                 \n",
            " block5_conv3 (Conv2D)       (None, 14, 14, 512)       2359808   \n",
            "                                                                 \n",
            " block5_conv4 (Conv2D)       (None, 14, 14, 512)       2359808   \n",
            "                                                                 \n",
            " block5_pool (MaxPooling2D)  (None, 7, 7, 512)         0         \n",
            "                                                                 \n",
            " flatten (Flatten)           (None, 25088)             0         \n",
            "                                                                 \n",
            " dense (Dense)               (None, 64)                1605696   \n",
            "                                                                 \n",
            " dense_1 (Dense)             (None, 32)                2080      \n",
            "                                                                 \n",
            " dense_2 (Dense)             (None, 4)                 132       \n",
            "                                                                 \n",
            "=================================================================\n",
            "Total params: 21,632,292\n",
            "Trainable params: 1,607,908\n",
            "Non-trainable params: 20,024,384\n",
            "_________________________________________________________________\n"
          ]
        }
      ]
    },
    {
      "cell_type": "code",
      "source": [
        "model.compile(loss='categorical_crossentropy', optimizer='adam', metrics=['accuracy'])"
      ],
      "metadata": {
        "id": "4iRx1gULnQFo"
      },
      "execution_count": 12,
      "outputs": []
    },
    {
      "cell_type": "code",
      "source": [
        "history = model.fit_generator(train_generator, epochs=10, validation_data=test_generator)"
      ],
      "metadata": {
        "colab": {
          "base_uri": "https://localhost:8080/"
        },
        "id": "36oNaypbIJIU",
        "outputId": "b1e18acd-136a-4773-ef59-cf017ec180a6"
      },
      "execution_count": 13,
      "outputs": [
        {
          "output_type": "stream",
          "name": "stderr",
          "text": [
            "<ipython-input-13-c61f59e3ffb0>:1: UserWarning: `Model.fit_generator` is deprecated and will be removed in a future version. Please use `Model.fit`, which supports generators.\n",
            "  history = model.fit_generator(train_generator, epochs=10, validation_data=test_generator)\n"
          ]
        },
        {
          "output_type": "stream",
          "name": "stdout",
          "text": [
            "Epoch 1/10\n",
            "61/61 [==============================] - 71s 952ms/step - loss: 0.7726 - accuracy: 0.6873 - val_loss: 0.4360 - val_accuracy: 0.7830\n",
            "Epoch 2/10\n",
            "61/61 [==============================] - 46s 749ms/step - loss: 0.4416 - accuracy: 0.8257 - val_loss: 0.2999 - val_accuracy: 0.8774\n",
            "Epoch 3/10\n",
            "61/61 [==============================] - 45s 739ms/step - loss: 0.4154 - accuracy: 0.8401 - val_loss: 0.2447 - val_accuracy: 0.8679\n",
            "Epoch 4/10\n",
            "61/61 [==============================] - 45s 737ms/step - loss: 0.4485 - accuracy: 0.8355 - val_loss: 0.1529 - val_accuracy: 0.9434\n",
            "Epoch 5/10\n",
            "61/61 [==============================] - 51s 832ms/step - loss: 0.3574 - accuracy: 0.8647 - val_loss: 0.1718 - val_accuracy: 0.9623\n",
            "Epoch 6/10\n",
            "61/61 [==============================] - 45s 742ms/step - loss: 0.3347 - accuracy: 0.8749 - val_loss: 0.2829 - val_accuracy: 0.8679\n",
            "Epoch 7/10\n",
            "61/61 [==============================] - 46s 760ms/step - loss: 0.3074 - accuracy: 0.8877 - val_loss: 0.1696 - val_accuracy: 0.9245\n",
            "Epoch 8/10\n",
            "61/61 [==============================] - 45s 734ms/step - loss: 0.2929 - accuracy: 0.8836 - val_loss: 0.1559 - val_accuracy: 0.9434\n",
            "Epoch 9/10\n",
            "61/61 [==============================] - 47s 771ms/step - loss: 0.2538 - accuracy: 0.9047 - val_loss: 0.1158 - val_accuracy: 0.9623\n",
            "Epoch 10/10\n",
            "61/61 [==============================] - 45s 731ms/step - loss: 0.3047 - accuracy: 0.8847 - val_loss: 0.1227 - val_accuracy: 0.9623\n"
          ]
        }
      ]
    },
    {
      "cell_type": "markdown",
      "source": [
        "## Plotting the accuracy and loss after each epoch"
      ],
      "metadata": {
        "id": "fCaKvug6B11R"
      }
    },
    {
      "cell_type": "code",
      "source": [
        "plt.title('Loss during Training')\n",
        "plt.plot(history.history['loss'], color='red', label='training loss')\n",
        "plt.plot(history.history['val_loss'], color='blue', label='training val loss')\n",
        "plt.legend()\n",
        "plt.show()"
      ],
      "metadata": {
        "colab": {
          "base_uri": "https://localhost:8080/",
          "height": 452
        },
        "id": "k3OAvGupCA3n",
        "outputId": "b28bf0f7-3d10-4bf9-f332-45fdf987164e"
      },
      "execution_count": 16,
      "outputs": [
        {
          "output_type": "display_data",
          "data": {
            "text/plain": [
              "<Figure size 640x480 with 1 Axes>"
            ],
            "image/png": "[encoded data removed]"
          },
          "metadata": {}
        }
      ]
    },
    {
      "cell_type": "code",
      "source": [
        "plt.title('Accuracy during Training')\n",
        "plt.plot(history.history['accuracy'], color='red', label='training accuracy')\n",
        "plt.plot(history.history['val_accuracy'], color='blue', label='training val accuracy')\n",
        "plt.legend()\n",
        "plt.show()"
      ],
      "metadata": {
        "colab": {
          "base_uri": "https://localhost:8080/",
          "height": 452
        },
        "id": "2rXvOZV0CrdF",
        "outputId": "0384fd09-1844-4d7c-e838-bd20d626095c"
      },
      "execution_count": 17,
      "outputs": [
        {
          "output_type": "display_data",
          "data": {
            "text/plain": [
              "<Figure size 640x480 with 1 Axes>"
            ],
            "image/png": "[encoded data removed]"
          },
          "metadata": {}
        }
      ]
    },
    {
      "cell_type": "markdown",
      "source": [
        "## Saving the Model"
      ],
      "metadata": {
        "id": "U-ieeGxTGeew"
      }
    },
    {
      "cell_type": "code",
      "source": [
        "model.save('vgg19_cottonnet.h5')"
      ],
      "metadata": {
        "id": "XtnbkFf7Ggv0"
      },
      "execution_count": 18,
      "outputs": []
    }
  ]
}